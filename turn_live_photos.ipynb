{
  "nbformat": 4,
  "nbformat_minor": 0,
  "metadata": {
    "colab": {
      "private_outputs": true,
      "provenance": [],
      "gpuType": "T4"
    },
    "kernelspec": {
      "name": "python3",
      "display_name": "Python 3"
    },
    "language_info": {
      "name": "python"
    },
    "accelerator": "GPU"
  },
  "cells": [
    {
      "cell_type": "markdown",
      "source": [
        "首先，找到**修改**>**笔记本设置**>**硬件加速器**，任意选择一个即可。\n",
        "\n",
        "之后，使用新建代码单元格或使用快捷键**Ctrl+M B**。\n",
        "\n",
        "首先，我们要获取到 [Google Drive](https://drive.google.com/) 的访问权限：\n",
        "\n",
        "```python\n",
        "from google.colab import drive\n",
        "drive.mount('/content/drive')\n",
        "```\n",
        "\n",
        "之后，我们来克隆仓库后安装一些必要依赖：\n",
        "\n",
        "```bash\n",
        "!apt-get install python3.10\n",
        "%cd /content/drive/MyDrive/Colab Notebooks\n",
        "!git clone https://github.com/CoolCLK/turn-live-photos.git\n",
        "!git pull https://github.com/CoolCLK/turn-live-photos.git\n",
        "%cd /content/drive/MyDrive/Colab Notebooks/turn-live-photos\n",
        "!pip3 install torch==2.7.0+cu128 torchvision torchaudio --index-url https://download.pytorch.org/whl/cu128\n",
        "!pip install -r requirements.txt\n",
        "```\n",
        "\n",
        "最后，我们来运行它：\n",
        "\n",
        "```bash\n",
        "!python __main__.py\n",
        "```\n",
        "\n",
        "运行单元格或者使用快捷键**Ctrl+Enter**，稍等即可。\n",
        "\n",
        "运行完成后，我们会发现我们无法正常访问网址。那么此时我们需要内网穿透。\n",
        "\n",
        "我们这里以 [ngrok](https://ngrok.com/) 做例子，提前注册好账号后，打开 [Your Authtoken](https://dashboard.ngrok.com/get-started/your-authtoken) 并复制身份验证码，此时对原先代码添加：\n",
        "\n",
        "```bash\n",
        "!pip install flask-ngrok2\n",
        "```\n",
        "\n",
        "修改我们原先的启动脚本：\n",
        "\n",
        "```bash\n",
        "!python __main__.py --ngrok --ngrok-authtoken=<your-authtoken>\n",
        "```\n",
        "\n",
        "将 `<your-authtoken>` 换成你的 __Auth Token__ 即可。\n",
        "\n",
        "> 举个例子，如果我们选择**T4 GPU**，并且显存只有*15.0 GB*，这看起来很多，但对于视频生成远远不够，因而我们可以在 `!python __main__.py` 后面添加参数，`--max-split-size-mb=14436` 是比较合适的，你甚至可以填入你所有空闲显存大小，*但这种方法会使得生成速度变慢*。"
      ],
      "metadata": {
        "id": "w1Y1pUyWnDfY"
      }
    },
    {
      "cell_type": "code",
      "execution_count": null,
      "metadata": {
        "id": "dnqw3T_fmhLV"
      },
      "outputs": [],
      "source": [
        "from google.colab import drive\n",
        "drive.mount('/content/drive')"
      ]
    },
    {
      "cell_type": "code",
      "source": [
        "!apt-get install python3.10\n",
        "%cd /content/drive/MyDrive/Colab Notebooks\n",
        "!git clone https://github.com/CoolCLK/turn-live-photos.git\n",
        "!git pull https://github.com/CoolCLK/turn-live-photos.git\n",
        "%cd /content/drive/MyDrive/Colab Notebooks/turn-live-photos\n",
        "!pip3 install torch==2.7.0+cu128 torchvision torchaudio --index-url https://download.pytorch.org/whl/cu128\n",
        "!pip install -r requirements.txt"
      ],
      "metadata": {
        "id": "1P1X1aTKm0yn"
      },
      "execution_count": null,
      "outputs": []
    },
    {
      "cell_type": "code",
      "source": [
        "!python __main__.py"
      ],
      "metadata": {
        "id": "X1AQ-AV2m15C"
      },
      "execution_count": null,
      "outputs": []
    }
  ]
}